{
 "cells": [
  {
   "cell_type": "markdown",
   "id": "16d7f466",
   "metadata": {},
   "source": [
    "### Load the model and carry out the prediction"
   ]
  },
  {
   "cell_type": "code",
   "execution_count": 17,
   "id": "5ffe9fc2",
   "metadata": {},
   "outputs": [],
   "source": [
    "from keras.models import load_model\n",
    "import keras_nlp\n",
    "import numpy as np\n",
    "import tensorflow as tf\n",
    "\n",
    "seq_max_length = 512\n",
    "model = load_model('model/fnet_model.keras')\n",
    "history_dict = np.load('model/history.npy', allow_pickle=True).item()"
   ]
  },
  {
   "cell_type": "markdown",
   "id": "604dea35",
   "metadata": {},
   "source": [
    "### Time to do prediction"
   ]
  },
  {
   "cell_type": "code",
   "execution_count": 18,
   "id": "6c5466a8",
   "metadata": {},
   "outputs": [],
   "source": [
    "positive_example_sentence = \"I've been consistently impressed with Blinkit's excellent service! Their delivery speed is amazing - \" \\\n",
    "\"most of my orders arrive within minutes, making it super convinient for last-minute essentials. The app is user-friendly, \" \\\n",
    "\"with a great selection of products that are always fresh and well packaged. Customer service is responsive, and they handle \" \\\n",
    "\"any issues quickly and professionally. Blinkit has truly redefined conveniencee and reliability in groecry delivery. Highly recommend it for every one.\"\n",
    "\n",
    "negative_example_sentence = \"Very bad experience with your android app. It is consistently hanging. \" \\\n",
    "\"Tried it in my realme and nothing phones. In both of them, it is hanging in few seconds after opening and after which it is very difficult to place order. \" \\\n",
    "\"I have to close the app 3-4 times and start again just to complete the whole process of ordering either from food section or instamart. \" \\\n",
    "\"It has been happening since last few months. Atleast fix the android app first before bringing the IPO.\""
   ]
  },
  {
   "cell_type": "code",
   "execution_count": 19,
   "id": "fe25b61a",
   "metadata": {},
   "outputs": [],
   "source": [
    "def load_vocab(vocab_file):\n",
    "    with open(vocab_file, 'r', encoding='utf-8') as f:\n",
    "        vocab = [line.strip() for line in f]\n",
    "    return vocab\n",
    "\n",
    "# Usage example:\n",
    "vocab = load_vocab(\"vocab.txt\")\n",
    "tokenizer = keras_nlp.tokenizers.WordPieceTokenizer(\n",
    "    vocabulary=vocab,\n",
    "    lowercase=False,\n",
    "    sequence_length=seq_max_length,\n",
    ")"
   ]
  },
  {
   "cell_type": "code",
   "execution_count": 20,
   "id": "6fb0828d",
   "metadata": {},
   "outputs": [],
   "source": [
    "def make_prediction(sentence):\n",
    "    tokens = tokenizer(sentence)\n",
    "    tokens = tf.expand_dims(tokens, 0)\n",
    "    prediction = model.predict(tokens, verbose=0)\n",
    "\n",
    "    if prediction[0][0] > 0.5:\n",
    "        result = \"The review is POSITIVE\"\n",
    "    else:\n",
    "        result = \"The review is NEGATIVE\"\n",
    "    return result"
   ]
  },
  {
   "cell_type": "code",
   "execution_count": 22,
   "id": "dac3fd46",
   "metadata": {},
   "outputs": [],
   "source": [
    "tokenizer = keras_nlp.tokenizers.WordPieceTokenizer(\n",
    "    vocabulary=vocab,\n",
    "    lowercase=False,\n",
    "    sequence_length=seq_max_length,\n",
    ")"
   ]
  },
  {
   "cell_type": "code",
   "execution_count": 23,
   "id": "97eb31de",
   "metadata": {},
   "outputs": [
    {
     "name": "stderr",
     "output_type": "stream",
     "text": [
      "/home/arifuz/Projects/Sentiment_Analysis_FNet/.venv/lib/python3.12/site-packages/keras/src/layers/layer.py:940: UserWarning: Layer 'position_embedding' (of type PositionEmbedding) was passed an input with a mask attached to it. However, this layer does not support masking and will therefore destroy the mask information. Downstream layers will not see the mask.\n",
      "  warnings.warn(\n"
     ]
    },
    {
     "name": "stdout",
     "output_type": "stream",
     "text": [
      "Prediction for positive review:  The review is POSITIVE\n",
      "Prediction for negative review:  The review is NEGATIVE\n"
     ]
    }
   ],
   "source": [
    "print(\"Prediction for positive review: \",make_prediction(positive_example_sentence))\n",
    "print(\"Prediction for negative review: \",make_prediction(negative_example_sentence))"
   ]
  }
 ],
 "metadata": {
  "kernelspec": {
   "display_name": ".venv",
   "language": "python",
   "name": "python3"
  },
  "language_info": {
   "codemirror_mode": {
    "name": "ipython",
    "version": 3
   },
   "file_extension": ".py",
   "mimetype": "text/x-python",
   "name": "python",
   "nbconvert_exporter": "python",
   "pygments_lexer": "ipython3",
   "version": "3.12.3"
  }
 },
 "nbformat": 4,
 "nbformat_minor": 5
}
